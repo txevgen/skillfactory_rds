{
 "cells": [
  {
   "cell_type": "markdown",
   "metadata": {},
   "source": [
    "WITH t1 AS\n",
    "  (-- Информация о полётах и самолётах --\n",
    " SELECT s.aircraft_code,\n",
    "        count(s.seat_no) count_seat,\n",
    "        ac.model\n",
    "   FROM dst_project.seats s\n",
    "   JOIN dst_project.aircrafts ac ON ac.aircraft_code = s.aircraft_code\n",
    "   GROUP BY s.aircraft_code,\n",
    "            ac.model),\n",
    "     t2 AS\n",
    "  (-- Информация о полётах и стоимости проданных билетов (группировка)\n",
    " SELECT tf.flight_id,\n",
    "        count(tf.ticket_no) count_ticket,\n",
    "        sum(tf.amount) flight_profit\n",
    "   FROM dst_project.ticket_flights tf\n",
    "   GROUP BY tf.flight_id),\n",
    "     t3 AS\n",
    "  (-- Информация о полётах и кол-во проданных билетов на разные классы\n",
    " SELECT tf.flight_id,\n",
    "        count(CASE\n",
    "                  WHEN tf.fare_conditions = 'Business' THEN tf.fare_conditions\n",
    "              END) business_ticket,\n",
    "        count(CASE\n",
    "                  WHEN tf.fare_conditions = 'Comfort' THEN tf.fare_conditions\n",
    "              END) comfort_ticket,\n",
    "        count(CASE\n",
    "                  WHEN tf.fare_conditions = 'Economy' THEN tf.fare_conditions\n",
    "              END) economy_ticket\n",
    "   FROM dst_project.ticket_flights tf\n",
    "   GROUP BY 1)\n",
    "SELECT -- *,\n",
    " f.flight_id,\n",
    " f.arrival_airport,\n",
    " t1.model,\n",
    " t1.count_seat,\n",
    " t2.count_ticket*100/t1.count_seat perc_ticket_sold,\n",
    " t2.count_ticket,\n",
    " t3.business_ticket,\n",
    " t3.economy_ticket,\n",
    " t2.flight_profit,\n",
    " extract(epoch\n",
    "         FROM (f.actual_arrival - f.actual_departure)) time_flying, -- продолжительность полёта, секунд\n",
    " date_part('month', f.scheduled_departure) month_flight\n",
    "FROM dst_project.flights f\n",
    "JOIN t1 ON f.aircraft_code = t1.aircraft_code\n",
    "JOIN t2 ON f.flight_id = t2.flight_id\n",
    "JOIN t3 ON f.flight_id = t3.flight_id\n",
    "WHERE f.departure_airport = 'AAQ'\n",
    "  AND (date_trunc('month', f.scheduled_departure) in ('2017-01-01',\n",
    "                                                      '2017-02-01',\n",
    "                                                      '2016-12-01'))\n",
    "  AND status not in ('Cancelled')\n",
    "ORDER BY flight_profit"
   ]
  }
 ],
 "metadata": {
  "kernelspec": {
   "display_name": "Python 3",
   "language": "python",
   "name": "python3"
  },
  "language_info": {
   "name": ""
  }
 },
 "nbformat": 4,
 "nbformat_minor": 4
}
